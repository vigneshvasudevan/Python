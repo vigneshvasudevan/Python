{
 "cells": [
  {
   "cell_type": "markdown",
   "metadata": {},
   "source": [
    "Async/Await vs Threading\n",
    "\n",
    "Similarity;\n",
    "1. Both async methods and threads is to make it possible to process several tasks concurrently.\n",
    "\n",
    "\n",
    "Dissimilarity:\n",
    "1. It is the operating system who manages the threads and theirs call stacks, where asyncio use coroutines.\n",
    "No os threads are involved, and the call stacks are python objects managed by python code (event loop).\n",
    "\n",
    "2. writing multi-threaded code is difficult and error prone\n",
    "\n",
    "3. asyncio multitasking is cooperative multitasking, in other words code will not be interrupted between await calls\n",
    "\n",
    "\n",
    "For more details: \n",
    "\n",
    "https://realpython.com/async-io-python/\n",
    "https://www.velotio.com/engineering-blog/async-features-in-python"
   ]
  }
 ],
 "metadata": {
  "interpreter": {
   "hash": "31f2aee4e71d21fbe5cf8b01ff0e069b9275f58929596ceb00d14d90e3e16cd6"
  },
  "kernelspec": {
   "display_name": "Python 3.8.9 64-bit",
   "language": "python",
   "name": "python3"
  },
  "language_info": {
   "codemirror_mode": {
    "name": "ipython",
    "version": 3
   },
   "file_extension": ".py",
   "mimetype": "text/x-python",
   "name": "python",
   "nbconvert_exporter": "python",
   "pygments_lexer": "ipython3",
   "version": "3.8.9"
  },
  "orig_nbformat": 4
 },
 "nbformat": 4,
 "nbformat_minor": 2
}
