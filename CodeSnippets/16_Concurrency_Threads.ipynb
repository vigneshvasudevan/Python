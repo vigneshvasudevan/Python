{
 "cells": [
  {
   "cell_type": "markdown",
   "metadata": {},
   "source": [
    "Concurrency\n",
    "\n",
    "\n",
    "What is concurrency?\n",
    "Concurrency refers the ability to perform more than one task at a given time.\n",
    "Simply put, it’s doing multiple things at the same time.\n",
    "\n",
    "Why do we need concurrency?\n",
    "\n",
    "Concurrency can make a big difference for two types of problems. \n",
    "These are generally called CPU-bound and I/O-bound.\n",
    "I/O-bound problems cause your program to slow down because it frequently must \n",
    "wait for input/output (I/O) from some external resource. \n",
    "They arise frequently when your program is working with things that are much \n",
    "slower than your CPU.\n",
    "\n",
    "How can we achieve concurrency inside python?\n",
    "    1. Threading\n",
    "    2. asyncio\n",
    "    3. multiprocessing\n",
    "\n"
   ]
  },
  {
   "cell_type": "code",
   "execution_count": 1,
   "metadata": {},
   "outputs": [
    {
     "name": "stdout",
     "output_type": "stream",
     "text": [
      "Starting a task...\n",
      "done\n",
      "Starting a task...\n",
      "done\n",
      "It took  2.01 second(s) to complete.\n"
     ]
    }
   ],
   "source": [
    "# Without threading\n",
    "from time import sleep, perf_counter\n",
    "\n",
    "def task():\n",
    "    print('Starting a task...')\n",
    "    sleep(1)\n",
    "    print('done')\n",
    "\n",
    "\n",
    "start_time = perf_counter()\n",
    "\n",
    "task()\n",
    "task()\n",
    "\n",
    "end_time = perf_counter()\n",
    "print(f'It took {end_time- start_time: 0.2f} second(s) to complete.')\n"
   ]
  },
  {
   "cell_type": "markdown",
   "metadata": {},
   "source": [
    "# Working with Threads\n",
    "from threading import Thread\n",
    "new_thread = Thread(target=fn,args=args_tuple)"
   ]
  },
  {
   "cell_type": "code",
   "execution_count": 2,
   "metadata": {},
   "outputs": [
    {
     "name": "stdout",
     "output_type": "stream",
     "text": [
      "Starting a task...\n",
      "Starting a task...\n",
      "done\n",
      "done\n",
      "With threading It took  1.01 second(s) to complete.\n"
     ]
    }
   ],
   "source": [
    "from time import sleep, perf_counter\n",
    "from threading import Thread\n",
    "\n",
    "\n",
    "def task():\n",
    "    print('Starting a task...')\n",
    "    sleep(1)\n",
    "    print('done')\n",
    "\n",
    "\n",
    "start_time = perf_counter()\n",
    "\n",
    "# create two new threads\n",
    "t1 = Thread(target=task)\n",
    "t2 = Thread(target=task)\n",
    "\n",
    "# start the threads\n",
    "t1.start()\n",
    "t2.start()\n",
    "\n",
    "# wait for the threads to complete\n",
    "t1.join()\n",
    "t2.join()\n",
    "\n",
    "end_time = perf_counter()\n",
    "\n",
    "print(f'With threading It took {end_time- start_time: 0.2f} second(s) to complete.')"
   ]
  },
  {
   "cell_type": "code",
   "execution_count": 1,
   "metadata": {},
   "outputs": [
    {
     "name": "stdout",
     "output_type": "stream",
     "text": [
      "Starting the task 1...Starting the task 2...\n",
      "\n",
      "Starting the task 3...\n",
      "Starting the task 4...\n",
      "Starting the task 5...\n",
      "Starting the task 6...\n",
      "Starting the task 7...Starting the task 8...\n",
      "\n",
      "Starting the task 9...Starting the task 10...\n",
      "\n",
      "donedonedone\n",
      "\n",
      "\n",
      "donedone\n",
      "done\n",
      "\n",
      "done\n",
      "donedone\n",
      "done\n",
      "\n",
      "It took  1.01 second(s) to complete.\n"
     ]
    }
   ],
   "source": [
    "# Passing arguments to threads\n",
    "\n",
    "from time import sleep, perf_counter\n",
    "from threading import Thread\n",
    "\n",
    "\n",
    "def task(id):\n",
    "    print(f'Starting the task {id}...')\n",
    "    sleep(1)\n",
    "    print('done')\n",
    "\n",
    "\n",
    "start_time = perf_counter()\n",
    "\n",
    "# create and start 10 threads\n",
    "threads = []\n",
    "for n in range(1, 11):\n",
    "    t = Thread(target=task, args=(n,))\n",
    "    threads.append(t)\n",
    "    t.start()\n",
    "\n",
    "# wait for the threads to complete\n",
    "for t in threads:\n",
    "    t.join()\n",
    "\n",
    "end_time = perf_counter()\n",
    "\n",
    "print(f'It took {end_time- start_time: 0.2f} second(s) to complete.')"
   ]
  },
  {
   "cell_type": "markdown",
   "metadata": {},
   "source": [
    "Threads Summary:\n",
    "\n",
    "1. Use the Python threading module to create a multi-threaded application.\n",
    "2. Use the Thread(function, args) to create a new thread.\n",
    "3. Call the start() method of the Thread to start the thread.\n",
    "4. Call the join() method o the Thread to wait for the thread to complete in the main thread.\n",
    "5. Only use threading for I/O bound processing applications."
   ]
  },
  {
   "cell_type": "markdown",
   "metadata": {},
   "source": [
    "# Race condition\n",
    "A race condition occurs when two threads try to access a shared variable simultaneously.\n",
    "\n",
    "The first thread reads the value from the shared variable. \n",
    "The second thread also reads the value from the same shared variable."
   ]
  },
  {
   "cell_type": "code",
   "execution_count": 4,
   "metadata": {},
   "outputs": [
    {
     "name": "stdout",
     "output_type": "stream",
     "text": [
      "counter= 20\n",
      "counter= 10\n",
      "The final counter is 10\n"
     ]
    }
   ],
   "source": [
    "from threading import Thread\n",
    "from time import sleep\n",
    "\n",
    "\n",
    "counter = 0\n",
    "\n",
    "\n",
    "def increase(by):\n",
    "    global counter\n",
    "\n",
    "    local_counter = counter\n",
    "    local_counter += by\n",
    "\n",
    "    sleep(0.1)\n",
    "\n",
    "    counter = local_counter\n",
    "    print(f'counter= {counter}')\n",
    "\n",
    "\n",
    "# create threads\n",
    "t1 = Thread(target=increase, args=(10,))\n",
    "t2 = Thread(target=increase, args=(20,))\n",
    "\n",
    "# start the threads\n",
    "t1.start()\n",
    "t2.start()\n",
    "\n",
    "\n",
    "# wait for the threads to complete\n",
    "t1.join()\n",
    "t2.join()\n",
    "\n",
    "\n",
    "print(f'The final counter is {counter}')"
   ]
  },
  {
   "cell_type": "markdown",
   "metadata": {},
   "source": [
    "If the thread t1 completes before the thread t2, you’ll see the following output:\n",
    "\n",
    "counter=10\n",
    "counter=20\n",
    "The counter is 20   \n",
    "\n",
    "Otherwise, you’ll see the following output:\n",
    "\n",
    "counter=20\n",
    "counter=10\n",
    "The final counter is 10"
   ]
  },
  {
   "cell_type": "code",
   "execution_count": 5,
   "metadata": {},
   "outputs": [
    {
     "name": "stdout",
     "output_type": "stream",
     "text": [
      "counter=10\n",
      "counter=30\n",
      "The final counter is 30\n"
     ]
    }
   ],
   "source": [
    "# How to prevent race condition\n",
    "from threading import Thread, Lock\n",
    "from time import sleep\n",
    "\n",
    "\n",
    "counter = 0\n",
    "\n",
    "\n",
    "def increase(by, lock):\n",
    "    global counter\n",
    "\n",
    "    lock.acquire()\n",
    "\n",
    "    local_counter = counter\n",
    "    local_counter += by\n",
    "\n",
    "    sleep(0.1)\n",
    "\n",
    "    counter = local_counter\n",
    "    print(f'counter={counter}')\n",
    "\n",
    "    lock.release()\n",
    "    \n",
    "\n",
    "lock = Lock()\n",
    "\n",
    "# create threads\n",
    "t1 = Thread(target=increase, args=(10, lock))\n",
    "t2 = Thread(target=increase, args=(20, lock))\n",
    "\n",
    "# start the threads\n",
    "t1.start()\n",
    "t2.start()\n",
    "\n",
    "\n",
    "# wait for the threads to complete\n",
    "t1.join()\n",
    "t2.join()\n",
    "\n",
    "\n",
    "print(f'The final counter is {counter}')"
   ]
  },
  {
   "cell_type": "markdown",
   "metadata": {},
   "source": [
    "First, create an instance the Lock class:\n",
    "\n",
    "1. lock = Lock()\n",
    "By default, the lock has the unlocked status until you acquire it.\n",
    "\n",
    "2. Acquire a lock by calling the acquire() method:\n",
    "lock.acquire()\n",
    "\n",
    "3. Release the lock once the thread completes changing the shared variable:\n",
    "lock.release()"
   ]
  }
 ],
 "metadata": {
  "interpreter": {
   "hash": "31f2aee4e71d21fbe5cf8b01ff0e069b9275f58929596ceb00d14d90e3e16cd6"
  },
  "kernelspec": {
   "display_name": "Python 3.8.9 64-bit",
   "language": "python",
   "name": "python3"
  },
  "language_info": {
   "codemirror_mode": {
    "name": "ipython",
    "version": 3
   },
   "file_extension": ".py",
   "mimetype": "text/x-python",
   "name": "python",
   "nbconvert_exporter": "python",
   "pygments_lexer": "ipython3",
   "version": "3.8.9"
  },
  "orig_nbformat": 4
 },
 "nbformat": 4,
 "nbformat_minor": 2
}
