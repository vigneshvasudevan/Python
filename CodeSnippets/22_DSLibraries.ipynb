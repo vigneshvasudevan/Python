{
 "cells": [
  {
   "cell_type": "markdown",
   "metadata": {},
   "source": [
    "# Topics covered: Numpy, Pandas, matplotlib\n",
    "\n",
    "How different is numpy from List ?\n",
    "    1. numpy arrays are extremly performant\n",
    "    2. list the entries are not necessarily stored in contiguous blocks in memory\n",
    "    whereas numpy gaurantees thats. \n"
   ]
  },
  {
   "cell_type": "code",
   "execution_count": 5,
   "metadata": {},
   "outputs": [
    {
     "name": "stdout",
     "output_type": "stream",
     "text": [
      "x =  [1 2 3 4 5]\n",
      "y =  [[1 2]\n",
      " [3 4]]\n"
     ]
    }
   ],
   "source": [
    "import numpy as np\n",
    "# Create a numpy 1-dimensional array from python List\n",
    "x = np.array([1, 2, 3, 4, 5])\n",
    "# Create a numpy 2-dimensional array(here 2x2 matrix) from python List\n",
    "y = np.array([[1, 2], [3, 4]])\n",
    "print(\"x = \", x)\n",
    "print(\"y = \", y)"
   ]
  },
  {
   "cell_type": "code",
   "execution_count": 4,
   "metadata": {},
   "outputs": [
    {
     "name": "stdout",
     "output_type": "stream",
     "text": [
      "[ 127 -128 -127]\n"
     ]
    }
   ],
   "source": [
    "# Create numpy array \n",
    "a = np.array([127, 128, 129], dtype=np.int8)\n",
    "print(a)\n",
    "\n",
    "# Here An 8-bit signed integer represents integers from -128 to 127.\n",
    "# Assigning the int8 array to integers outside of this range results in overflow"
   ]
  },
  {
   "cell_type": "code",
   "execution_count": 32,
   "metadata": {},
   "outputs": [
    {
     "name": "stdout",
     "output_type": "stream",
     "text": [
      "a =  [0 1 2 3 4 5 6 7 8 9]\n",
      "b =  [1.  1.6 2.2 2.8 3.4 4. ]\n",
      "Identity matrix =  [[1. 0. 0.]\n",
      " [0. 1. 0.]\n",
      " [0. 0. 1.]]\n",
      "diagonalMatrix =  [[1 0 0]\n",
      " [0 2 0]\n",
      " [0 0 3]]\n",
      "VanderMondeMatrix =  [[0.   0.   1.  ]\n",
      " [0.25 0.5  1.  ]\n",
      " [1.   1.   1.  ]\n",
      " [2.25 1.5  1.  ]\n",
      " [4.   2.   1.  ]]\n",
      "2x2 zeroArray =  [0 0]\n",
      "2x3 zero matrix =  [[0. 0. 0.]\n",
      " [0. 0. 0.]]\n",
      "2x3 Random matrix =  [[0.77395605 0.43887844 0.85859792]\n",
      " [0.69736803 0.09417735 0.97562235]]\n"
     ]
    }
   ],
   "source": [
    "# Intrinsic numpy array creation\n",
    "\n",
    "# Create array from 1 until 10, 10 is exclusive here.\n",
    "a = np.arange(10)\n",
    "print(\"a = \", a)\n",
    "\n",
    "\n",
    "b = np.linspace(1., 4., 6)\n",
    "print(\"b = \", b)\n",
    "# Here beginning = 1 end = 4, 6 values is generated such that values are linearly spaced\n",
    "# where stepsize = (end - begin)/(count-1); In this example begin = 1, end = 4 , count = 6\n",
    "\n",
    "\n",
    "#Identity matrix\n",
    "identityMatrix = np.eye(3)\n",
    "print(\"Identity matrix = \", identityMatrix)\n",
    "\n",
    "\n",
    "diagonalMatrix = np.diag([1, 2, 3])\n",
    "print(\"diagonalMatrix = \", diagonalMatrix)\n",
    "\n",
    "x = np.vander(np.linspace(0, 2, 5), 3)\n",
    "print(\"VanderMondeMatrix = \", x)\n",
    "\n",
    "zeroArray = np.zeros(2, dtype=int)\n",
    "print(\"2x2 zeroArray = \", zeroArray)\n",
    "\n",
    "\n",
    "matrix = np.zeros((2, 3))\n",
    "print(\"2x3 zero matrix = \", matrix)\n",
    "\n",
    "\n",
    "from numpy.random import default_rng\n",
    "print(\"2x3 Random matrix = \", default_rng(42).random((2,3)))"
   ]
  },
  {
   "cell_type": "code",
   "execution_count": 11,
   "metadata": {},
   "outputs": [
    {
     "name": "stdout",
     "output_type": "stream",
     "text": [
      "a = [2 3 3 4 5 6] ; b = [2 3]\n"
     ]
    }
   ],
   "source": [
    "# Shallow copy inside numpy array\n",
    "a = np.array([1, 2, 3, 4, 5, 6])\n",
    "b = a[:2]\n",
    "b += 1\n",
    "print('a =', a, '; b =', b)\n",
    "\n",
    "#Here both 'a' and 'b' points to the same memory"
   ]
  },
  {
   "cell_type": "code",
   "execution_count": 12,
   "metadata": {},
   "outputs": [
    {
     "name": "stdout",
     "output_type": "stream",
     "text": [
      "a =  [1 2 3 4] b =  [2 3]\n"
     ]
    }
   ],
   "source": [
    "# Deep copy inside numpy array\n",
    "a = np.array([1, 2, 3, 4])\n",
    "b = a[:2].copy()\n",
    "b += 1\n",
    "print('a = ', a, 'b = ', b)"
   ]
  },
  {
   "cell_type": "code",
   "execution_count": null,
   "metadata": {},
   "outputs": [],
   "source": [
    "x = np.loadtxt('../logs/mock.csv', delimiter = ',') \n",
    "print(x)"
   ]
  },
  {
   "cell_type": "code",
   "execution_count": 13,
   "metadata": {},
   "outputs": [
    {
     "name": "stdout",
     "output_type": "stream",
     "text": [
      "0    1\n",
      "1    2\n",
      "2    3\n",
      "3    4\n",
      "dtype: int64\n"
     ]
    }
   ],
   "source": [
    "import pandas as pd\n",
    "# Creating Pandas series from python List\n",
    "mySeries = pd.Series([1, 2, 3, 4])\n",
    "mySeries.tail() #By default prints last 5 values\n",
    "print(mySeries)\n",
    "\n"
   ]
  },
  {
   "cell_type": "code",
   "execution_count": 15,
   "metadata": {},
   "outputs": [
    {
     "name": "stdout",
     "output_type": "stream",
     "text": [
      "0    1\n",
      "1    2\n",
      "2    3\n",
      "3    4\n",
      "dtype: int64\n"
     ]
    }
   ],
   "source": [
    "array = np.array([1, 2, 3, 4])\n",
    "# converting the NumPy array to a Pandas series\n",
    "series = pd.Series(array) \n",
    "print(series)"
   ]
  },
  {
   "cell_type": "code",
   "execution_count": 21,
   "metadata": {},
   "outputs": [
    {
     "name": "stdout",
     "output_type": "stream",
     "text": [
      "     A          B    C  D      E    F\n",
      "0  1.0 2013-01-02  1.0  3   test  foo\n",
      "1  1.0 2013-01-02  1.0  3  train  foo\n",
      "2  1.0 2013-01-02  1.0  3   test  foo\n",
      "3  1.0 2013-01-02  1.0  3  train  foo\n"
     ]
    }
   ],
   "source": [
    "# Creating a dataframe with different values\n",
    "df = pd.DataFrame({\"A\": 1.0, \"B\": pd.Timestamp(\"20130102\"),\"C\": pd.Series(1, index=list(range(4)), dtype=\"float32\"),\"D\": np.array([3] * 4, dtype=\"int32\"),\"E\": pd.Categorical([\"test\", \"train\", \"test\", \"train\"]), \"F\": \"foo\"})\n",
    "print(df)"
   ]
  },
  {
   "cell_type": "code",
   "execution_count": 22,
   "metadata": {},
   "outputs": [
    {
     "name": "stdout",
     "output_type": "stream",
     "text": [
      "       emp_name        dept birth_month\n",
      "0    John Smith  Accounting    November\n",
      "1  Erica Meyers          IT       March\n"
     ]
    }
   ],
   "source": [
    "# Reading csv file and converting into data-frame\n",
    "data = pd.read_csv(\"../logs/mock.csv\")\n",
    "print(\"Data = \", data)"
   ]
  },
  {
   "cell_type": "code",
   "execution_count": 27,
   "metadata": {},
   "outputs": [
    {
     "name": "stdout",
     "output_type": "stream",
     "text": [
      "Employee name and dept =         emp_name        dept\n",
      "0    John Smith  Accounting\n",
      "1  Erica Meyers          IT\n",
      "Employee birth month =  0    November\n",
      "1       March\n",
      "Name: birth_month, dtype: object\n",
      "Type of type(birthMonth) =  <class 'pandas.core.series.Series'>\n"
     ]
    }
   ],
   "source": [
    "# Getting subset of data\n",
    "emp = data[[\"emp_name\", \"dept\"]]\n",
    "print(\"Employee name and dept = \", emp)\n",
    "birthMonth = data[\"birth_month\"]\n",
    "print(\"Employee birth month = \", birthMonth)\n",
    "print(\"Type of type(birthMonth) = \" , type(birthMonth))"
   ]
  },
  {
   "cell_type": "code",
   "execution_count": 29,
   "metadata": {},
   "outputs": [
    {
     "name": "stdout",
     "output_type": "stream",
     "text": [
      "       emp_name dept birth_month\n",
      "1  Erica Meyers   IT       March\n"
     ]
    }
   ],
   "source": [
    "# Get only IT dept employee record\n",
    "ITDeptEmployeeRecord = data[data[\"dept\"] == \"IT\"]\n",
    "print(ITDeptEmployeeRecord)"
   ]
  },
  {
   "cell_type": "code",
   "execution_count": 30,
   "metadata": {},
   "outputs": [
    {
     "data": {
      "text/html": [
       "<div>\n",
       "<style scoped>\n",
       "    .dataframe tbody tr th:only-of-type {\n",
       "        vertical-align: middle;\n",
       "    }\n",
       "\n",
       "    .dataframe tbody tr th {\n",
       "        vertical-align: top;\n",
       "    }\n",
       "\n",
       "    .dataframe thead th {\n",
       "        text-align: right;\n",
       "    }\n",
       "</style>\n",
       "<table border=\"1\" class=\"dataframe\">\n",
       "  <thead>\n",
       "    <tr style=\"text-align: right;\">\n",
       "      <th></th>\n",
       "      <th>emp_name</th>\n",
       "      <th>dept</th>\n",
       "      <th>birth_month</th>\n",
       "    </tr>\n",
       "  </thead>\n",
       "  <tbody>\n",
       "    <tr>\n",
       "      <th>count</th>\n",
       "      <td>2</td>\n",
       "      <td>2</td>\n",
       "      <td>2</td>\n",
       "    </tr>\n",
       "    <tr>\n",
       "      <th>unique</th>\n",
       "      <td>2</td>\n",
       "      <td>2</td>\n",
       "      <td>2</td>\n",
       "    </tr>\n",
       "    <tr>\n",
       "      <th>top</th>\n",
       "      <td>John Smith</td>\n",
       "      <td>Accounting</td>\n",
       "      <td>November</td>\n",
       "    </tr>\n",
       "    <tr>\n",
       "      <th>freq</th>\n",
       "      <td>1</td>\n",
       "      <td>1</td>\n",
       "      <td>1</td>\n",
       "    </tr>\n",
       "  </tbody>\n",
       "</table>\n",
       "</div>"
      ],
      "text/plain": [
       "          emp_name        dept birth_month\n",
       "count            2           2           2\n",
       "unique           2           2           2\n",
       "top     John Smith  Accounting    November\n",
       "freq             1           1           1"
      ]
     },
     "execution_count": 30,
     "metadata": {},
     "output_type": "execute_result"
    }
   ],
   "source": [
    "# To get statstics \n",
    "data.describe()"
   ]
  },
  {
   "cell_type": "markdown",
   "metadata": {},
   "source": [
    "Pandas vs numpy\n",
    "\n",
    "Data objects: \n",
    "    Numpy: \n",
    "        1. The main data object in NumPy is an array, more particularly ndarray. \n",
    "        2. It is basically an N-dimensional array that supports a wide variety of calculations and computations. \n",
    "        3. These ndarrays are much faster than the python list based arrays as they do not involve any kind of looping. \n",
    "    \n",
    "    Pandas: \n",
    "        1. The main data object in Pandas is a series. \n",
    "        2. A series is basically a one-dimensional indexed array. \n",
    "        3. By combining series objects, you can build another popular data object in pandas called DataFrames. \n",
    "        4. DataFrames are n-dimensional indexed arrays. Very close to ndarrays in numpy but indexed.\n",
    "        \n",
    "Type of data supported in NumPy and Pandas: \n",
    "\n",
    "        1. NumPy library mainly used for performing numerical computations and computations. \n",
    "        2. We can perform complex calculations on arrays fastly and easily with a range of functions provided in this module. \n",
    "        3. Whereas pandas library is primarily used for data analysis, by allowing us to work with CSV, Excel, SQL etc. It even has some inbuilt functions for data plotting and visualization.\n",
    "        \n",
    "        \n",
    "Usage in deep learning and machine learning: \n",
    "        1. NumPy is one of the basic modules on top of which most of the other python modules are built. \n",
    "        2. The most popular machine learning tool scikit learn’s modules can be fed (accept input as) with numpy arrays only. \n",
    "        3. Same is the case with complex deep learning tools such as tensorflow. It also accepts numpy arrays as input and gives arrays as output. \n",
    "        4. Pandas data objects cannot be directly used as input for machine learning and deep learning tools. \n",
    "        5. We have to run them through several steps of preprocessing before feeding them to a machine learning module.\n",
    "        \n",
    "        \n",
    "Performance with complex operations: \n",
    "        1. NumPy performs best when it comes to complex mathematical calculations on multidimensional arrays. \n",
    "        2. It is insanely faster than pandas when it comes to calculations such as solving linear algebra, finding gradient descent, matrix multiplications and vectorization of data etc. \n",
    "        3. It is really tedious and tough to perform these calculations on data frames and series objects in pandas. However, one should note that numpy performs best with 50,000 or less number of rows in the dataset, while pandas perform best with 500,000 rows or more when it comes to data manipulation.\n",
    "\n",
    "\n",
    "Indexing in Pandas and NumPy: \n",
    "        1. The data rows are not indexed by default in numpy arrays. \n",
    "        2. However, this is not the case with pandas. \n",
    "        3. The data rows are indexed or labelled by default. \n",
    "        4. You can play with the indexes and manipulate it. You can use a column as index or change the name of labels etc. in the indexes. This is quite not possible in NumPy\n",
    "\n",
    "\n"
   ]
  },
  {
   "cell_type": "code",
   "execution_count": 31,
   "metadata": {},
   "outputs": [
    {
     "data": {
      "image/png": "[encoded data removed]",
      "text/plain": [
       "<Figure size 432x288 with 1 Axes>"
      ]
     },
     "metadata": {
      "needs_background": "light"
     },
     "output_type": "display_data"
    }
   ],
   "source": [
    "import matplotlib.pyplot as plt\n",
    "x = np.array([\"A\", \"B\", \"C\", \"D\"])\n",
    "y = np.array([3, 8, 1, 10])\n",
    "plt.bar(x, y)\n",
    "plt.show()"
   ]
  },
  {
   "cell_type": "markdown",
   "metadata": {},
   "source": [
    "\n",
    "Things to try:\n",
    "    1. How to plot a line graph using 'orange' color\n",
    "    2. How to plot two graphs on the same plot\n",
    "    3. How to use subplots to plot more than one plot on the same window\n",
    "\n",
    "\n",
    "\n",
    "Future read:\n",
    "    Understand when to use what type of graph\n",
    "\n"
   ]
  },
  {
   "cell_type": "markdown",
   "metadata": {},
   "source": [
    "\n",
    "Ref:\n",
    "    https://numpy.org/doc/stable/user/basics.html\n",
    "    https://pandas.pydata.org/pandas-docs/stable/getting_started/intro_tutorials/index.html\n",
    "    https://matplotlib.org/stable/tutorials/introductory/usage.html#sphx-glr-tutorials-introductory-usage-py\n",
    "    https://scikit-learn.org/stable/modules/ensemble.html\n",
    "    \n",
    "    https://medium.com/personal-project/numpy-pandas-and-scikit-learn-explained-e7336baecedc\n",
    "    https://appdividend.com/2020/05/05/how-to-check-numpy-version-on-mac-linux-and-windows/\n",
    "    https://towardsdatascience.com/top-5-machine-learning-libraries-in-python-e36e3e0e02af\n",
    "    https://matplotlib.org/stable/gallery/subplots_axes_and_figures/subplots_demo.html\n",
    "    \n",
    "   "
   ]
  }
 ],
 "metadata": {
  "interpreter": {
   "hash": "31f2aee4e71d21fbe5cf8b01ff0e069b9275f58929596ceb00d14d90e3e16cd6"
  },
  "kernelspec": {
   "display_name": "Python 3.8.9 64-bit",
   "language": "python",
   "name": "python3"
  },
  "language_info": {
   "codemirror_mode": {
    "name": "ipython",
    "version": 3
   },
   "file_extension": ".py",
   "mimetype": "text/x-python",
   "name": "python",
   "nbconvert_exporter": "python",
   "pygments_lexer": "ipython3",
   "version": "3.8.9"
  },
  "orig_nbformat": 4
 },
 "nbformat": 4,
 "nbformat_minor": 2
}
