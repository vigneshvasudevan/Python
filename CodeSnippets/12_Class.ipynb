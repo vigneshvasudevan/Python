{
 "cells": [
  {
   "cell_type": "markdown",
   "metadata": {},
   "source": [
    "# what is a class?\n",
    "Class is an extensible template, representing skeleton of an entity. \n",
    "Class brings data and behavior together(another words the ones which uses the data). \n",
    "\n",
    "# why we need them ?\n",
    "Class is the basic element of Object oriented paradigm\n"
   ]
  },
  {
   "cell_type": "code",
   "execution_count": 1,
   "metadata": {},
   "outputs": [
    {
     "name": "stdout",
     "output_type": "stream",
     "text": [
      "<class '__main__.Complex'>\n",
      "200\n",
      "Hello world\n",
      "200 100\n"
     ]
    }
   ],
   "source": [
    "# A complex number class having object variable 'r' and 'i'\n",
    "class Complex:\n",
    "    # private variable by convention is always prefixed with double underscore\n",
    "    __privateVar = 100\n",
    "    # variable outside the constructor is by default static or class variable\n",
    "    staticVariable = 200\n",
    "    \n",
    "    # constructor\n",
    "    def __init__(self, realpart, imagpart):\n",
    "        self.r = realpart\n",
    "        self.i = imagpart\n",
    "     \n",
    "    # object method, here the argument 'self' indicates the object itself\n",
    "    def myprint(self) :\n",
    "        print(self.r, \"+i\" , self.i)\n",
    "        \n",
    "    # class function\n",
    "    def foo():\n",
    "        print(\"Hello world\")\n",
    "    \n",
    "    # overloading 'len' operator\n",
    "    def __len__(self) -> int:\n",
    "        print(\"foo bar\")\n",
    "        return 0\n",
    "    \n",
    "    # overload add operator\n",
    "    def __add__(self, obj):\n",
    "        return Complex(self.r + obj.r, self.i + obj.i)\n",
    "    \n",
    "    # public method accessing private function and variable\n",
    "    def getStaticPrivateVar(self) :\n",
    "        self.__privateMethod()\n",
    "        return Complex.__privateVar\n",
    "    \n",
    "    # Private method can be called only via \n",
    "    # other public methods/function implictily\n",
    "    def __privateMethod(self):\n",
    "        print(\"Im a private method\")\n",
    "        \n",
    "\n",
    "#Creating an instance of class 'complex', this will call the constructor\n",
    "c1 = Complex(3.0, -4.5)\n",
    "print(type(c1))\n",
    "# Accessing static/class variable\n",
    "print(Complex.staticVariable)\n",
    "# Modifying public class variables using object\n",
    "c1.i = 100\n",
    "c1.r = 200\n",
    "#Calling class function\n",
    "Complex.foo()\n",
    "#calling object method\n",
    "c1.myprint()\n",
    "# Complex.__privateVar = 100 is illegal as __privateVar is private\n",
    "c2 = Complex(-10, 2)\n",
    "# c1 + c2 statement will call overloaded 'add' method\n",
    "c3 = c1 + c2"
   ]
  },
  {
   "cell_type": "code",
   "execution_count": 2,
   "metadata": {},
   "outputs": [
    {
     "name": "stdout",
     "output_type": "stream",
     "text": [
      "Overriding base class definition\n",
      "10 20\n",
      "Im a private method\n"
     ]
    },
    {
     "data": {
      "text/plain": [
       "100"
      ]
     },
     "execution_count": 2,
     "metadata": {},
     "output_type": "execute_result"
    }
   ],
   "source": [
    "# Inheriting class 'complex'\n",
    "class AnotherClass(Complex):\n",
    "    \n",
    "    # calling base class constructor from child class using 'super' keyword\n",
    "    def __init__(self, realpart, imagpart):\n",
    "        super().__init__(realpart, imagpart)\n",
    "    #overriding base class implementation\n",
    "    def myprint(self) :\n",
    "        print(\"Overriding base class definition\")\n",
    "        print(self.r, self.i)\n",
    "   \n",
    "obj = AnotherClass(10, 20)\n",
    "# Calls overloaded 'myprint' method\n",
    "obj.myprint()\n",
    "# Accesing parent class method\n",
    "obj.getStaticPrivateVar()"
   ]
  },
  {
   "cell_type": "code",
   "execution_count": 3,
   "metadata": {},
   "outputs": [
    {
     "name": "stdout",
     "output_type": "stream",
     "text": [
      "Class Daughter Init called\n",
      "Class Mother Init called\n",
      "Class Father Init called\n",
      "Class Father Init called\n",
      "Printmsg function inside Mother class called\n",
      "Class Father Init called\n",
      "Printmsg function inside Father class called\n"
     ]
    }
   ],
   "source": [
    "#Multiple inheritance\n",
    "class Father():\n",
    "    def __init__(self):\n",
    "        print(\"Class Father Init called\")\n",
    "        \n",
    "    def printmsg(self):\n",
    "        print(\"Printmsg function inside Father class called\")\n",
    "        \n",
    "\n",
    "class Mother():\n",
    "    def __init__(self):\n",
    "        print(\"Class Mother Init called\")\n",
    "    \n",
    "    def printmsg(self):\n",
    "        print(\"Printmsg function inside Mother class called\")\n",
    "        \n",
    "\n",
    "class Daughter(Mother, Father):\n",
    "    def __init__(self):\n",
    "        print(\"Class Daughter Init called\")\n",
    "        # By default super will refer to the first parent\n",
    "        # here it is 'Mother'\n",
    "        super().__init__()\n",
    "        Father().__init__()\n",
    "        # Since printmsg exists in Mother and parent\n",
    "        # we will go by the first parent here it is\n",
    "        # mother so \"Print function inside Mother class called\"\n",
    "        # will be printed\n",
    "        self.printmsg()\n",
    "        #To call Father's printmsg\n",
    "        Father().printmsg()\n",
    "        \n",
    "obj = Daughter() \n"
   ]
  },
  {
   "cell_type": "code",
   "execution_count": 4,
   "metadata": {},
   "outputs": [
    {
     "name": "stdout",
     "output_type": "stream",
     "text": [
      "Do soemthing\n",
      "Something spl\n",
      "Printmsg function inside Grandfather class called\n"
     ]
    }
   ],
   "source": [
    "#MultiLevel inheritance\n",
    "class GrandFather():\n",
    "    def printmsg(self):\n",
    "        print(\"Printmsg function inside Grandfather class called\")\n",
    "    \n",
    "    def foo(self) :\n",
    "        print(\"Do something\")\n",
    "        \n",
    "class Father(GrandFather):\n",
    "    def printmsg(self):\n",
    "        print(\"Printmsg function inside Grandfather class called\")\n",
    "     \n",
    "    def bar(self):\n",
    "        print(\"Something spl\") \n",
    "        \n",
    "class Son(Father):\n",
    "    pass\n",
    "\n",
    "obj = Son() \n",
    "obj.foo()\n",
    "obj.bar()\n",
    "obj.printmsg()\n",
    "\n"
   ]
  },
  {
   "cell_type": "markdown",
   "metadata": {},
   "source": [
    "\n",
    "Things to try:\n",
    "A -> B -> C : multi-level inheritance; how do we call A's constructor from C\n",
    "A, B are independent class; B, A -> C : multiple inheritance, where c inherits both B & A; how do we call A's constructor from C\n"
   ]
  }
 ],
 "metadata": {
  "interpreter": {
   "hash": "31f2aee4e71d21fbe5cf8b01ff0e069b9275f58929596ceb00d14d90e3e16cd6"
  },
  "kernelspec": {
   "display_name": "Python 3.8.9 64-bit",
   "language": "python",
   "name": "python3"
  },
  "language_info": {
   "codemirror_mode": {
    "name": "ipython",
    "version": 3
   },
   "file_extension": ".py",
   "mimetype": "text/x-python",
   "name": "python",
   "nbconvert_exporter": "python",
   "pygments_lexer": "ipython3",
   "version": "3.8.9"
  },
  "orig_nbformat": 4
 },
 "nbformat": 4,
 "nbformat_minor": 2
}
